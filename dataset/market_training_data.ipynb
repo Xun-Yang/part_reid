{
 "cells": [
  {
   "cell_type": "code",
   "execution_count": 1,
   "metadata": {
    "collapsed": true
   },
   "outputs": [],
   "source": [
    "import caffe\n",
    "import os\n",
    "import sys\n",
    "import glob\n",
    "import numpy as np\n",
    "import random\n",
    "import shutil\n",
    "from time import clock"
   ]
  },
  {
   "cell_type": "code",
   "execution_count": 3,
   "metadata": {
    "collapsed": false
   },
   "outputs": [
    {
     "name": "stdout",
     "output_type": "stream",
     "text": [
      "./train_list/train.txt\n",
      "12936\n",
      "751\n",
      "./train_list/test.txt\n",
      "3368\n",
      "750\n"
     ]
    }
   ],
   "source": [
    "imdb_save_path = './train_list/'\n",
    "if not os.path.exists(imdb_save_path):\n",
    "    os.makedirs(imdb_save_path)\n",
    "DATA_DIR= r'./Market-1501/'\n",
    "DEST_DATA_DIR=DATA_DIR\n",
    "#DEST_DATA_DIR='\\\\\\\\gcr/Scratch/MSRA/v-limz/dataset/Market-1501/Market-1501/'\n",
    "shuffle_times=2000\n",
    "for conf_no in range(0,2):\n",
    "    if conf_no==0:\n",
    "        list_name = imdb_save_path+'train.txt'\n",
    "        list_dir=DATA_DIR+'bounding_box_train/'\n",
    "        phase = 'train'\n",
    "    else:\n",
    "        list_name = imdb_save_path+'test.txt'\n",
    "        list_dir=DATA_DIR+'query/'\n",
    "        phase = 'test'\n",
    "        shuffle_times=1\n",
    "\n",
    "    print list_name\n",
    " \n",
    "    image_list=[]\n",
    "    person_id_list=[]\n",
    "    all_id={}\n",
    "    file_lists=glob.glob(list_dir+'*.jpg')\n",
    "    print len(file_lists)\n",
    "    for filename in file_lists:\n",
    "        idx=filename.rfind('/')\n",
    "        image_name=filename[idx+1:]\n",
    "        person_id_str=image_name[:image_name.find('_')]\n",
    "        person_id = int(person_id_str)\n",
    "        if all_id.has_key(person_id_str):\n",
    "            all_id[person_id_str].append(filename)\n",
    "        else:\n",
    "            all_id[person_id_str]=[filename]\n",
    "        \n",
    "    id_list=all_id.keys()\n",
    "    print len(all_id)\n",
    "    \n",
    "    random.seed(clock())\n",
    "    for shuffle_idx in range(shuffle_times):\n",
    "        random.shuffle(id_list)\n",
    "        for person_id in id_list:\n",
    "            filename_lists=all_id[person_id]\n",
    "            for filename in filename_lists:\n",
    "                idx=filename.rfind('/')\n",
    "                image_name=filename[idx+1:]\n",
    "                person_id = int(image_name[:image_name.find('_')])\n",
    "                image_list.append(image_name)\n",
    "                person_id_list.append(person_id)\n",
    "    fid=open(list_name,'w')\n",
    "    for image_idx in range(len(image_list)):\n",
    "        fid.write(image_list[image_idx]+' '+str(person_id_list[image_idx])+'\\n')\n",
    "    fid.close()"
   ]
  },
  {
   "cell_type": "code",
   "execution_count": null,
   "metadata": {
    "collapsed": false
   },
   "outputs": [],
   "source": [
    "for image_name in image_list[:10]:\n",
    "    print(image_name)"
   ]
  },
  {
   "cell_type": "code",
   "execution_count": null,
   "metadata": {
    "collapsed": true
   },
   "outputs": [],
   "source": []
  }
 ],
 "metadata": {
  "anaconda-cloud": {},
  "kernelspec": {
   "display_name": "Python [default]",
   "language": "python",
   "name": "python2"
  },
  "language_info": {
   "codemirror_mode": {
    "name": "ipython",
    "version": 2
   },
   "file_extension": ".py",
   "mimetype": "text/x-python",
   "name": "python",
   "nbconvert_exporter": "python",
   "pygments_lexer": "ipython2",
   "version": "2.7.13"
  }
 },
 "nbformat": 4,
 "nbformat_minor": 0
}
