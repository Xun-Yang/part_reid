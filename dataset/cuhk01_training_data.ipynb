{
 "cells": [
  {
   "cell_type": "code",
   "execution_count": 1,
   "metadata": {
    "collapsed": true
   },
   "outputs": [],
   "source": [
    "import os\n",
    "import glob\n",
    "import random\n",
    "import numpy as np\n",
    "\n",
    "from time import clock"
   ]
  },
  {
   "cell_type": "code",
   "execution_count": 2,
   "metadata": {
    "collapsed": true
   },
   "outputs": [],
   "source": [
    "def cuhk01_train_dict():\n",
    "    DATA_DIR= r'../../dataset/cuhk01/campus/'\n",
    "    all_id={}\n",
    "    file_lists=glob.glob(DATA_DIR+'*.png')\n",
    "    print len(file_lists)\n",
    "    for filename in file_lists:\n",
    "        idx=filename.rfind('/')\n",
    "        image_name=filename[idx+1:]\n",
    "        person_id_str=image_name[:4]\n",
    "        person_id = int(person_id_str)\n",
    "        if all_id.has_key(person_id):\n",
    "            all_id[person_id].append(filename)\n",
    "        else:\n",
    "            all_id[person_id]=[filename]\n",
    "\n",
    "    id_names=all_id.keys()\n",
    "    np.random.seed(0)\n",
    "    train_num=871\n",
    "    train_num=485\n",
    "    train_idx_list=np.random.choice(id_names,train_num,replace=False)\n",
    "    print len(train_idx_list),train_idx_list[:10]\n",
    "\n",
    "    test_idx_list=[]\n",
    "    for x in id_names:\n",
    "        if x not in train_idx_list:\n",
    "            test_idx_list.append(x)\n",
    "    print len(test_idx_list),test_idx_list[:10]\n",
    "    train_dict={}\n",
    "    for train_id in train_idx_list:\n",
    "        train_dict[train_id]=all_id[train_id]\n",
    "    return train_dict"
   ]
  },
  {
   "cell_type": "code",
   "execution_count": 3,
   "metadata": {
    "collapsed": false
   },
   "outputs": [
    {
     "name": "stdout",
     "output_type": "stream",
     "text": [
      "3884\n",
      "485 [935 280  15 682 459 767 686 967 380 559]\n",
      "486 [1, 4, 5, 8, 10, 12, 14, 17, 20, 24]\n",
      "485\n",
      "9700000 32333\n"
     ]
    }
   ],
   "source": [
    "all_id=cuhk01_train_dict()\n",
    "imdb_save_path = './train_485/'\n",
    "if not os.path.exists(imdb_save_path):\n",
    "    os.makedirs(imdb_save_path)\n",
    "list_name=imdb_save_path+'train.txt'\n",
    "phase = 'train'\n",
    "\n",
    "image_list=[]\n",
    "person_id_list=[]\n",
    "id_list=all_id.keys()\n",
    "print len(all_id)\n",
    "\n",
    "shuffle_times=5000\n",
    "random.seed(clock())\n",
    "for shuffle_idx in range(shuffle_times):\n",
    "    random.shuffle(id_list)\n",
    "    for person_id in id_list:\n",
    "        if person_id>10000 and np.random.rand()>0.75:\n",
    "            continue\n",
    "        filename_lists=all_id[person_id]\n",
    "        for filename in filename_lists:\n",
    "            idx=filename.rfind('/');\n",
    "            image_name=filename[idx+1:]\n",
    "            image_list.append(image_name)\n",
    "            person_id_list.append(person_id)\n",
    "fid=open(list_name,'w')\n",
    "for image_idx in range(len(image_list)):\n",
    "    fid.write(image_list[image_idx]+' '+str(person_id_list[image_idx])+'\\n')\n",
    "fid.close()\n",
    "print len(image_list),len(image_list)/300"
   ]
  },
  {
   "cell_type": "code",
   "execution_count": null,
   "metadata": {
    "collapsed": true
   },
   "outputs": [],
   "source": []
  },
  {
   "cell_type": "code",
   "execution_count": null,
   "metadata": {
    "collapsed": true
   },
   "outputs": [],
   "source": []
  },
  {
   "cell_type": "code",
   "execution_count": null,
   "metadata": {
    "collapsed": true
   },
   "outputs": [],
   "source": []
  },
  {
   "cell_type": "code",
   "execution_count": null,
   "metadata": {
    "collapsed": true
   },
   "outputs": [],
   "source": []
  }
 ],
 "metadata": {
  "anaconda-cloud": {},
  "kernelspec": {
   "display_name": "Python [default]",
   "language": "python",
   "name": "python2"
  },
  "language_info": {
   "codemirror_mode": {
    "name": "ipython",
    "version": 2
   },
   "file_extension": ".py",
   "mimetype": "text/x-python",
   "name": "python",
   "nbconvert_exporter": "python",
   "pygments_lexer": "ipython2",
   "version": "2.7.13"
  }
 },
 "nbformat": 4,
 "nbformat_minor": 0
}
